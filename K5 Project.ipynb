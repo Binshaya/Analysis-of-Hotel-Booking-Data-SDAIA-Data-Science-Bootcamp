{
 "cells": [
  {
   "cell_type": "markdown",
   "id": "51be4b4f",
   "metadata": {},
   "source": [
    "# Analysis of the Hotel Booking\n",
    "\n",
    "### The goal of this project is to predict if a guest will actually come or he will cancel the resrvation,\n",
    "### it will be usefull for hotels if they have model like this to offer more rooms or take a retainer from the client before the resrvation.\n",
    "### I choseI chose the classification Model for this project"
   ]
  },
  {
   "cell_type": "code",
   "execution_count": 23,
   "id": "61972720",
   "metadata": {},
   "outputs": [],
   "source": [
    "import pandas as pd\n",
    "import matplotlib.pyplot as plt\n",
    "import seaborn as sns\n",
    "import numpy as np"
   ]
  },
  {
   "cell_type": "markdown",
   "id": "5ff4c9fb",
   "metadata": {},
   "source": [
    "### Data\n",
    " I used hotels dataset from contains 119,390 waterpoints with 32 features for each\n",
    "\"Hotel booking demand\"\n",
    "From the paper: hotel booking demand datasets\"\n",
    " https://www.kaggle.com/jessemostipak/hotel-booking-demand"
   ]
  },
  {
   "cell_type": "code",
   "execution_count": 24,
   "id": "9ef34af5",
   "metadata": {},
   "outputs": [
    {
     "data": {
      "text/html": [
       "<div>\n",
       "<style scoped>\n",
       "    .dataframe tbody tr th:only-of-type {\n",
       "        vertical-align: middle;\n",
       "    }\n",
       "\n",
       "    .dataframe tbody tr th {\n",
       "        vertical-align: top;\n",
       "    }\n",
       "\n",
       "    .dataframe thead th {\n",
       "        text-align: right;\n",
       "    }\n",
       "</style>\n",
       "<table border=\"1\" class=\"dataframe\">\n",
       "  <thead>\n",
       "    <tr style=\"text-align: right;\">\n",
       "      <th></th>\n",
       "      <th>hotel</th>\n",
       "      <th>is_canceled</th>\n",
       "      <th>lead_time</th>\n",
       "      <th>arrival_date_year</th>\n",
       "      <th>arrival_date_month</th>\n",
       "      <th>arrival_date_week_number</th>\n",
       "      <th>arrival_date_day_of_month</th>\n",
       "      <th>stays_in_weekend_nights</th>\n",
       "      <th>stays_in_week_nights</th>\n",
       "      <th>adults</th>\n",
       "      <th>...</th>\n",
       "      <th>deposit_type</th>\n",
       "      <th>agent</th>\n",
       "      <th>company</th>\n",
       "      <th>days_in_waiting_list</th>\n",
       "      <th>customer_type</th>\n",
       "      <th>adr</th>\n",
       "      <th>required_car_parking_spaces</th>\n",
       "      <th>total_of_special_requests</th>\n",
       "      <th>reservation_status</th>\n",
       "      <th>reservation_status_date</th>\n",
       "    </tr>\n",
       "  </thead>\n",
       "  <tbody>\n",
       "    <tr>\n",
       "      <th>0</th>\n",
       "      <td>Resort Hotel</td>\n",
       "      <td>0</td>\n",
       "      <td>342</td>\n",
       "      <td>2015</td>\n",
       "      <td>July</td>\n",
       "      <td>27</td>\n",
       "      <td>1</td>\n",
       "      <td>0</td>\n",
       "      <td>0</td>\n",
       "      <td>2</td>\n",
       "      <td>...</td>\n",
       "      <td>No Deposit</td>\n",
       "      <td>NaN</td>\n",
       "      <td>NaN</td>\n",
       "      <td>0</td>\n",
       "      <td>Transient</td>\n",
       "      <td>0.0</td>\n",
       "      <td>0</td>\n",
       "      <td>0</td>\n",
       "      <td>Check-Out</td>\n",
       "      <td>2015-07-01</td>\n",
       "    </tr>\n",
       "    <tr>\n",
       "      <th>1</th>\n",
       "      <td>Resort Hotel</td>\n",
       "      <td>0</td>\n",
       "      <td>737</td>\n",
       "      <td>2015</td>\n",
       "      <td>July</td>\n",
       "      <td>27</td>\n",
       "      <td>1</td>\n",
       "      <td>0</td>\n",
       "      <td>0</td>\n",
       "      <td>2</td>\n",
       "      <td>...</td>\n",
       "      <td>No Deposit</td>\n",
       "      <td>NaN</td>\n",
       "      <td>NaN</td>\n",
       "      <td>0</td>\n",
       "      <td>Transient</td>\n",
       "      <td>0.0</td>\n",
       "      <td>0</td>\n",
       "      <td>0</td>\n",
       "      <td>Check-Out</td>\n",
       "      <td>2015-07-01</td>\n",
       "    </tr>\n",
       "    <tr>\n",
       "      <th>2</th>\n",
       "      <td>Resort Hotel</td>\n",
       "      <td>0</td>\n",
       "      <td>7</td>\n",
       "      <td>2015</td>\n",
       "      <td>July</td>\n",
       "      <td>27</td>\n",
       "      <td>1</td>\n",
       "      <td>0</td>\n",
       "      <td>1</td>\n",
       "      <td>1</td>\n",
       "      <td>...</td>\n",
       "      <td>No Deposit</td>\n",
       "      <td>NaN</td>\n",
       "      <td>NaN</td>\n",
       "      <td>0</td>\n",
       "      <td>Transient</td>\n",
       "      <td>75.0</td>\n",
       "      <td>0</td>\n",
       "      <td>0</td>\n",
       "      <td>Check-Out</td>\n",
       "      <td>2015-07-02</td>\n",
       "    </tr>\n",
       "    <tr>\n",
       "      <th>3</th>\n",
       "      <td>Resort Hotel</td>\n",
       "      <td>0</td>\n",
       "      <td>13</td>\n",
       "      <td>2015</td>\n",
       "      <td>July</td>\n",
       "      <td>27</td>\n",
       "      <td>1</td>\n",
       "      <td>0</td>\n",
       "      <td>1</td>\n",
       "      <td>1</td>\n",
       "      <td>...</td>\n",
       "      <td>No Deposit</td>\n",
       "      <td>304.0</td>\n",
       "      <td>NaN</td>\n",
       "      <td>0</td>\n",
       "      <td>Transient</td>\n",
       "      <td>75.0</td>\n",
       "      <td>0</td>\n",
       "      <td>0</td>\n",
       "      <td>Check-Out</td>\n",
       "      <td>2015-07-02</td>\n",
       "    </tr>\n",
       "    <tr>\n",
       "      <th>4</th>\n",
       "      <td>Resort Hotel</td>\n",
       "      <td>0</td>\n",
       "      <td>14</td>\n",
       "      <td>2015</td>\n",
       "      <td>July</td>\n",
       "      <td>27</td>\n",
       "      <td>1</td>\n",
       "      <td>0</td>\n",
       "      <td>2</td>\n",
       "      <td>2</td>\n",
       "      <td>...</td>\n",
       "      <td>No Deposit</td>\n",
       "      <td>240.0</td>\n",
       "      <td>NaN</td>\n",
       "      <td>0</td>\n",
       "      <td>Transient</td>\n",
       "      <td>98.0</td>\n",
       "      <td>0</td>\n",
       "      <td>1</td>\n",
       "      <td>Check-Out</td>\n",
       "      <td>2015-07-03</td>\n",
       "    </tr>\n",
       "  </tbody>\n",
       "</table>\n",
       "<p>5 rows × 32 columns</p>\n",
       "</div>"
      ],
      "text/plain": [
       "          hotel  is_canceled  lead_time  arrival_date_year arrival_date_month  \\\n",
       "0  Resort Hotel            0        342               2015               July   \n",
       "1  Resort Hotel            0        737               2015               July   \n",
       "2  Resort Hotel            0          7               2015               July   \n",
       "3  Resort Hotel            0         13               2015               July   \n",
       "4  Resort Hotel            0         14               2015               July   \n",
       "\n",
       "   arrival_date_week_number  arrival_date_day_of_month  \\\n",
       "0                        27                          1   \n",
       "1                        27                          1   \n",
       "2                        27                          1   \n",
       "3                        27                          1   \n",
       "4                        27                          1   \n",
       "\n",
       "   stays_in_weekend_nights  stays_in_week_nights  adults  ...  deposit_type  \\\n",
       "0                        0                     0       2  ...    No Deposit   \n",
       "1                        0                     0       2  ...    No Deposit   \n",
       "2                        0                     1       1  ...    No Deposit   \n",
       "3                        0                     1       1  ...    No Deposit   \n",
       "4                        0                     2       2  ...    No Deposit   \n",
       "\n",
       "   agent company days_in_waiting_list customer_type   adr  \\\n",
       "0    NaN     NaN                    0     Transient   0.0   \n",
       "1    NaN     NaN                    0     Transient   0.0   \n",
       "2    NaN     NaN                    0     Transient  75.0   \n",
       "3  304.0     NaN                    0     Transient  75.0   \n",
       "4  240.0     NaN                    0     Transient  98.0   \n",
       "\n",
       "   required_car_parking_spaces  total_of_special_requests  reservation_status  \\\n",
       "0                            0                          0           Check-Out   \n",
       "1                            0                          0           Check-Out   \n",
       "2                            0                          0           Check-Out   \n",
       "3                            0                          0           Check-Out   \n",
       "4                            0                          1           Check-Out   \n",
       "\n",
       "  reservation_status_date  \n",
       "0              2015-07-01  \n",
       "1              2015-07-01  \n",
       "2              2015-07-02  \n",
       "3              2015-07-02  \n",
       "4              2015-07-03  \n",
       "\n",
       "[5 rows x 32 columns]"
      ]
     },
     "execution_count": 24,
     "metadata": {},
     "output_type": "execute_result"
    }
   ],
   "source": [
    "Data = pd.read_csv(r'C:\\Users\\mmm--\\Desktop\\T5\\hotel_bookings.csv')\n",
    "Data.head()"
   ]
  },
  {
   "cell_type": "code",
   "execution_count": 25,
   "id": "c3272745",
   "metadata": {
    "scrolled": true
   },
   "outputs": [
    {
     "data": {
      "text/plain": [
       "(119390, 32)"
      ]
     },
     "execution_count": 25,
     "metadata": {},
     "output_type": "execute_result"
    }
   ],
   "source": [
    "Data.shape"
   ]
  },
  {
   "cell_type": "markdown",
   "id": "08156f99",
   "metadata": {},
   "source": [
    "#### making sure all columns are unique"
   ]
  },
  {
   "cell_type": "code",
   "execution_count": 26,
   "id": "2d71ce76",
   "metadata": {},
   "outputs": [
    {
     "data": {
      "text/plain": [
       "32"
      ]
     },
     "execution_count": 26,
     "metadata": {},
     "output_type": "execute_result"
    }
   ],
   "source": [
    "len(Data.columns.unique())"
   ]
  },
  {
   "cell_type": "code",
   "execution_count": 27,
   "id": "19acf1c8",
   "metadata": {
    "scrolled": true
   },
   "outputs": [
    {
     "data": {
      "text/plain": [
       "Index(['hotel', 'is_canceled', 'lead_time', 'arrival_date_year',\n",
       "       'arrival_date_month', 'arrival_date_week_number',\n",
       "       'arrival_date_day_of_month', 'stays_in_weekend_nights',\n",
       "       'stays_in_week_nights', 'adults', 'children', 'babies', 'meal',\n",
       "       'country', 'market_segment', 'distribution_channel',\n",
       "       'is_repeated_guest', 'previous_cancellations',\n",
       "       'previous_bookings_not_canceled', 'reserved_room_type',\n",
       "       'assigned_room_type', 'booking_changes', 'deposit_type', 'agent',\n",
       "       'company', 'days_in_waiting_list', 'customer_type', 'adr',\n",
       "       'required_car_parking_spaces', 'total_of_special_requests',\n",
       "       'reservation_status', 'reservation_status_date'],\n",
       "      dtype='object')"
      ]
     },
     "execution_count": 27,
     "metadata": {},
     "output_type": "execute_result"
    }
   ],
   "source": [
    "Data.columns"
   ]
  },
  {
   "cell_type": "markdown",
   "id": "a32fec08",
   "metadata": {},
   "source": [
    "#### There are 4 columns have empty values"
   ]
  },
  {
   "cell_type": "code",
   "execution_count": 28,
   "id": "1ca0d54a",
   "metadata": {
    "scrolled": true
   },
   "outputs": [
    {
     "data": {
      "text/plain": [
       "Index(['children', 'country', 'agent', 'company'], dtype='object')"
      ]
     },
     "execution_count": 28,
     "metadata": {},
     "output_type": "execute_result"
    }
   ],
   "source": [
    "Data.columns[Data.isna().any()].unique()"
   ]
  },
  {
   "cell_type": "code",
   "execution_count": 29,
   "id": "67901101",
   "metadata": {
    "scrolled": true
   },
   "outputs": [
    {
     "name": "stdout",
     "output_type": "stream",
     "text": [
      "Number of columns have empty values :\n"
     ]
    },
    {
     "data": {
      "text/plain": [
       "4"
      ]
     },
     "execution_count": 29,
     "metadata": {},
     "output_type": "execute_result"
    }
   ],
   "source": [
    "print (\"Number of columns have empty values :\")\n",
    "len(Data.columns[Data.isna().any()].unique())"
   ]
  },
  {
   "cell_type": "markdown",
   "id": "2359bb4a",
   "metadata": {},
   "source": [
    "#### i'm gonna look more deeper into these four columns"
   ]
  },
  {
   "cell_type": "code",
   "execution_count": 30,
   "id": "570f7479",
   "metadata": {},
   "outputs": [
    {
     "name": "stdout",
     "output_type": "stream",
     "text": [
      "Number of empty values in children column:  4\n",
      "Percentage：  0.003350364352123293\n"
     ]
    }
   ],
   "source": [
    "print(\"Number of empty values in children column: \", Data['children'].isnull().sum())\n",
    "print(\"Percentage： \", Data['children'].isnull().sum() / Data.shape[0] * 100)"
   ]
  },
  {
   "cell_type": "code",
   "execution_count": 31,
   "id": "ef519351",
   "metadata": {
    "scrolled": true
   },
   "outputs": [
    {
     "name": "stdout",
     "output_type": "stream",
     "text": [
      "Number of empty values in country column:  488\n",
      "Percentage：  0.40874445095904177\n"
     ]
    }
   ],
   "source": [
    "print(\"Number of empty values in country column: \", Data['country'].isnull().sum())\n",
    "print(\"Percentage： \", Data['country'].isnull().sum() / Data.shape[0] * 100)"
   ]
  },
  {
   "cell_type": "code",
   "execution_count": 32,
   "id": "df0ad024",
   "metadata": {},
   "outputs": [
    {
     "name": "stdout",
     "output_type": "stream",
     "text": [
      "Number of empty values in agent column:  16340\n",
      "Percentage：  13.686238378423655\n"
     ]
    }
   ],
   "source": [
    "print(\"Number of empty values in agent column: \", Data['agent'].isnull().sum())\n",
    "print(\"Percentage： \", Data['agent'].isnull().sum() / Data.shape[0] * 100)"
   ]
  },
  {
   "cell_type": "code",
   "execution_count": 33,
   "id": "20c37638",
   "metadata": {},
   "outputs": [
    {
     "name": "stdout",
     "output_type": "stream",
     "text": [
      "Number of empty values in company column:  112593\n",
      "Percentage：  94.30689337465449\n"
     ]
    }
   ],
   "source": [
    "print(\"Number of empty values in company column: \", Data['company'].isnull().sum())\n",
    "print(\"Percentage： \", Data['company'].isnull().sum() / Data.shape[0] * 100)"
   ]
  },
  {
   "cell_type": "markdown",
   "id": "e6583507",
   "metadata": {},
   "source": [
    "#### company column show that is 94% of columns are missing so i can't use it any more i'll drop it"
   ]
  },
  {
   "cell_type": "code",
   "execution_count": 34,
   "id": "277ec51a",
   "metadata": {},
   "outputs": [],
   "source": [
    "Data = Data.drop(['company'], axis =1)"
   ]
  },
  {
   "cell_type": "markdown",
   "id": "eeb05fbb",
   "metadata": {},
   "source": [
    "#### Making sure the company column was deleted"
   ]
  },
  {
   "cell_type": "code",
   "execution_count": 35,
   "id": "fbae428a",
   "metadata": {},
   "outputs": [
    {
     "data": {
      "text/plain": [
       "(119390, 31)"
      ]
     },
     "execution_count": 35,
     "metadata": {},
     "output_type": "execute_result"
    }
   ],
   "source": [
    "Data.shape"
   ]
  },
  {
   "cell_type": "markdown",
   "id": "0be43def",
   "metadata": {},
   "source": [
    "### What pepoles prefer to book resort hotel or city hotel ( give me a precentage ) ?\n",
    "#### as we see most of the pepole (%66) prefer to book a city hotel bcause the resort usually more expensive "
   ]
  },
  {
   "cell_type": "code",
   "execution_count": 36,
   "id": "89d57f7b",
   "metadata": {},
   "outputs": [
    {
     "data": {
      "image/png": "[encoded data removed]",
      "text/plain": [
       "<Figure size 432x288 with 1 Axes>"
      ]
     },
     "metadata": {
      "needs_background": "light"
     },
     "output_type": "display_data"
    },
    {
     "data": {
      "text/plain": [
       "City Hotel      66.446101\n",
       "Resort Hotel    33.553899\n",
       "Name: hotel, dtype: float64"
      ]
     },
     "execution_count": 36,
     "metadata": {},
     "output_type": "execute_result"
    }
   ],
   "source": [
    "plt.title(\"Hotel Column\")\n",
    "sns.countplot(x=Data['hotel'])\n",
    "plt.show()\n",
    "Data['hotel'].value_counts() / Data.shape[0] * 100"
   ]
  },
  {
   "cell_type": "markdown",
   "id": "5157c835",
   "metadata": {},
   "source": [
    "### What is the perecntage of pepole who's cancel there reservation ?\n",
    "#### as we see here %62 of pepoles not canceled their reservations"
   ]
  },
  {
   "cell_type": "code",
   "execution_count": 37,
   "id": "3df7f94e",
   "metadata": {
    "scrolled": false
   },
   "outputs": [
    {
     "data": {
      "image/png": "[encoded data removed]",
      "text/plain": [
       "<Figure size 432x288 with 1 Axes>"
      ]
     },
     "metadata": {
      "needs_background": "light"
     },
     "output_type": "display_data"
    },
    {
     "data": {
      "text/plain": [
       "0    62.958372\n",
       "1    37.041628\n",
       "Name: is_canceled, dtype: float64"
      ]
     },
     "execution_count": 37,
     "metadata": {},
     "output_type": "execute_result"
    }
   ],
   "source": [
    "plt.title(\"is_canceled column\")\n",
    "sns.countplot(x=Data['is_canceled'])\n",
    "plt.show()\n",
    "Data['is_canceled'].value_counts() / Data.shape[0] * 100"
   ]
  },
  {
   "cell_type": "markdown",
   "id": "7b732f56",
   "metadata": {},
   "source": [
    "### which are the most busy month ?\n",
    "#### it shows the must pepoles booked in August"
   ]
  },
  {
   "cell_type": "code",
   "execution_count": 38,
   "id": "ff52ea28",
   "metadata": {
    "scrolled": false
   },
   "outputs": [
    {
     "data": {
      "image/png": "[encoded data removed]",
      "text/plain": [
       "<Figure size 864x288 with 1 Axes>"
      ]
     },
     "metadata": {
      "needs_background": "light"
     },
     "output_type": "display_data"
    },
    {
     "data": {
      "text/plain": [
       "August       13877\n",
       "July         12661\n",
       "May          11791\n",
       "October      11160\n",
       "April        11089\n",
       "June         10939\n",
       "September    10508\n",
       "March         9794\n",
       "February      8068\n",
       "November      6794\n",
       "December      6780\n",
       "January       5929\n",
       "Name: arrival_date_month, dtype: int64"
      ]
     },
     "execution_count": 38,
     "metadata": {},
     "output_type": "execute_result"
    }
   ],
   "source": [
    "plt.figure(figsize=(12, 4))\n",
    "plt.title(\"Arrival Months\")\n",
    "sns.countplot(x=Data['arrival_date_month'])\n",
    "plt.show()\n",
    "Data['arrival_date_month'].value_counts()"
   ]
  },
  {
   "cell_type": "markdown",
   "id": "1f18b3ff",
   "metadata": {},
   "source": [
    "## now after we know this information we see a problem with higher cancelation , so we want to predict the cancelation from creating a model to figure how to solve the problem"
   ]
  },
  {
   "cell_type": "markdown",
   "id": "1e6dc847",
   "metadata": {},
   "source": [
    "#### now i'll split the columns into numrical & catigorical, and chose the train sets"
   ]
  },
  {
   "cell_type": "code",
   "execution_count": 39,
   "id": "faa82a6f",
   "metadata": {},
   "outputs": [],
   "source": [
    "from sklearn.impute import SimpleImputer\n",
    "from sklearn.pipeline import Pipeline\n",
    "from sklearn.preprocessing import LabelEncoder, OneHotEncoder\n",
    "from sklearn.compose import ColumnTransformer\n",
    "\n",
    "num_features = [\"lead_time\",\"arrival_date_week_number\",\"arrival_date_day_of_month\",\n",
    "                \"stays_in_weekend_nights\",\"stays_in_week_nights\",\"adults\",\"children\",\n",
    "                \"babies\",\"is_repeated_guest\", \"previous_cancellations\",\n",
    "                \"previous_bookings_not_canceled\",\"agent\",\n",
    "                \"required_car_parking_spaces\", \"total_of_special_requests\", \"adr\"]\n",
    "\n",
    "cat_features = [\"hotel\",\"arrival_date_month\",\"meal\",\"market_segment\",\n",
    "                \"distribution_channel\",\"reserved_room_type\",\"assigned_room_type\", \"deposit_type\",\"customer_type\"]\n",
    "\n",
    "features = num_features + cat_features\n",
    "X = Data.drop([\"is_canceled\"], axis=1)[features]\n",
    "y = Data[\"is_canceled\"]\n",
    "\n",
    "num_transformer = SimpleImputer(strategy=\"constant\")\n",
    "\n",
    "cat_transformer = Pipeline(steps=[\n",
    "    (\"imputer\", SimpleImputer(strategy=\"most_frequent\")),\n",
    "    (\"onehot\", OneHotEncoder(handle_unknown='ignore'))])\n",
    "\n",
    "preprocessor = ColumnTransformer(transformers=[(\"num\", num_transformer, num_features),\n",
    "                                               (\"cat\", cat_transformer, cat_features)])"
   ]
  },
  {
   "cell_type": "markdown",
   "id": "f3a2373d",
   "metadata": {},
   "source": [
    "### now we will test several Models and we will chose the best performance of them\n",
    "#### As we see the best performance model is RandomForestClassifier with %87 accuracy"
   ]
  },
  {
   "cell_type": "code",
   "execution_count": 40,
   "id": "5b514d4d",
   "metadata": {},
   "outputs": [
    {
     "name": "stdout",
     "output_type": "stream",
     "text": [
      "DT_model cross validation accuarcy score: 0.8266 +/- 0.0013 (std) min: 0.8247, max: 0.8279\n",
      "RF_model cross validation accuarcy score: 0.8696 +/- 0.0011 (std) min: 0.8678, max: 0.8703\n",
      "LR_model cross validation accuarcy score: 0.7977 +/- 0.0016 (std) min: 0.7961, max: 0.8003\n"
     ]
    }
   ],
   "source": [
    "from sklearn.tree import DecisionTreeClassifier\n",
    "from sklearn.ensemble import RandomForestClassifier\n",
    "from sklearn.linear_model import LogisticRegression\n",
    "\n",
    "from sklearn.model_selection import train_test_split, KFold, cross_validate, cross_val_score\n",
    "\n",
    "base_models = [(\"DT_model\", DecisionTreeClassifier(random_state=42)),\n",
    "               (\"RF_model\", RandomForestClassifier(random_state=42,n_jobs=-1)),\n",
    "               (\"LR_model\", LogisticRegression(random_state=42,n_jobs=-1))]\n",
    "\n",
    "kfolds = 4 # 4 = 75% train, 25% validation\n",
    "split = KFold(n_splits=kfolds, shuffle=True, random_state=42)\n",
    "\n",
    "for name, model in base_models:\n",
    "    model_steps = Pipeline(steps=[('preprocessor', preprocessor),\n",
    "                              ('model', model)])\n",
    "    \n",
    "    cv_results = cross_val_score(model_steps, \n",
    "                                 X, y, \n",
    "                                 cv=split,\n",
    "                                 scoring=\"accuracy\",\n",
    "                                 n_jobs=-1)\n",
    "    \n",
    "    min_score = round(min(cv_results), 4)\n",
    "    max_score = round(max(cv_results), 4)\n",
    "    mean_score = round(np.mean(cv_results), 4)\n",
    "    std_dev = round(np.std(cv_results), 4)\n",
    "    print(f\"{name} cross validation accuarcy score: {mean_score} +/- {std_dev} (std) min: {min_score}, max: {max_score}\")"
   ]
  },
  {
   "cell_type": "markdown",
   "id": "882d518b",
   "metadata": {},
   "source": [
    "#### we see that earlier customer books the hotel, the more likly it's to be canceled"
   ]
  },
  {
   "cell_type": "code",
   "execution_count": 43,
   "id": "d2981bfc",
   "metadata": {},
   "outputs": [
    {
     "data": {
      "image/png": "[encoded data removed]",
      "text/plain": [
       "<Figure size 864x288 with 1 Axes>"
      ]
     },
     "metadata": {
      "needs_background": "light"
     },
     "output_type": "display_data"
    },
    {
     "name": "stdout",
     "output_type": "stream",
     "text": [
      "   is_canceled   lead_time\n",
      "0            0   79.984687\n",
      "1            1  144.848815\n"
     ]
    }
   ],
   "source": [
    "plt.figure(figsize=(12, 4))\n",
    "plt.title(\"lead_time Column\")\n",
    "sns.barplot(x=Data['is_canceled'], y=Data['lead_time'])\n",
    "plt.show()\n",
    "\n",
    "print( Data[[\"lead_time\",\"is_canceled\"]].groupby([\"is_canceled\"], as_index = False).mean() )"
   ]
  },
  {
   "cell_type": "markdown",
   "id": "e1be3aad",
   "metadata": {},
   "source": [
    "#### we see here that more special requests the costumer makes, that less likely he will cancel the reservation"
   ]
  },
  {
   "cell_type": "code",
   "execution_count": 45,
   "id": "35dac0ba",
   "metadata": {},
   "outputs": [
    {
     "data": {
      "image/png": "[encoded data removed]",
      "text/plain": [
       "<Figure size 1008x288 with 1 Axes>"
      ]
     },
     "metadata": {
      "needs_background": "light"
     },
     "output_type": "display_data"
    },
    {
     "name": "stdout",
     "output_type": "stream",
     "text": [
      "   total_of_special_requests  is_canceled\n",
      "0                          0     0.477204\n",
      "1                          1     0.220249\n",
      "2                          2     0.220989\n",
      "3                          3     0.178614\n",
      "4                          4     0.105882\n",
      "5                          5     0.050000\n"
     ]
    }
   ],
   "source": [
    "plt.figure(figsize=(14, 4))\n",
    "plt.title(\"total_of_special_requests Column\")\n",
    "sns.barplot(x=Data['total_of_special_requests'], y=Data['is_canceled'])\n",
    "plt.show()\n",
    "\n",
    "print( Data[[\"total_of_special_requests\",\"is_canceled\"]].groupby([\"total_of_special_requests\"], as_index = False).mean() )"
   ]
  }
 ],
 "metadata": {
  "kernelspec": {
   "display_name": "Python 3",
   "language": "python",
   "name": "python3"
  },
  "language_info": {
   "codemirror_mode": {
    "name": "ipython",
    "version": 3
   },
   "file_extension": ".py",
   "mimetype": "text/x-python",
   "name": "python",
   "nbconvert_exporter": "python",
   "pygments_lexer": "ipython3",
   "version": "3.8.8"
  }
 },
 "nbformat": 4,
 "nbformat_minor": 5
}
